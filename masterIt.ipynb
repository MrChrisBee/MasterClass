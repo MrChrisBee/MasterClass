{
 "cells": [
  {
   "cell_type": "markdown",
   "id": "daf09891",
   "metadata": {},
   "source": [
    "### Hello, you can use this like you want but you cant save it back. So if you made important changes copy them and save for your own purpose.\n"
   ]
  },
  {
   "cell_type": "code",
   "execution_count": 2,
   "id": "87b1cbc4",
   "metadata": {},
   "outputs": [],
   "source": [
    "#### There is a file called framingham_heart_disease.csv located in the "
   ]
  },
  {
   "cell_type": "code",
   "execution_count": null,
   "id": "34cc20ac",
   "metadata": {},
   "outputs": [],
   "source": [
    "import pandas as pd\n",
    "import numpy as np\n",
    "\n",
    "df = pd.read_csv('framingham_heart_disease.csv', sep=',', index_col='ID')"
   ]
  }
 ],
 "metadata": {
  "kernelspec": {
   "display_name": "Python 3 (ipykernel)",
   "language": "python",
   "name": "python3"
  },
  "language_info": {
   "codemirror_mode": {
    "name": "ipython",
    "version": 3
   },
   "file_extension": ".py",
   "mimetype": "text/x-python",
   "name": "python",
   "nbconvert_exporter": "python",
   "pygments_lexer": "ipython3",
   "version": "3.10.9"
  }
 },
 "nbformat": 4,
 "nbformat_minor": 5
}
